{
  "cells": [
    {
      "cell_type": "markdown",
      "metadata": {
        "id": "tEuNyPyfmvW6"
      },
      "source": [
        "### Import Library"
      ]
    },
    {
      "cell_type": "code",
      "execution_count": 1,
      "metadata": {
        "id": "5I6FNxpemzwS"
      },
      "outputs": [],
      "source": [
        "import math\n",
        "import numpy as np\n",
        "import random"
      ]
    },
    {
      "cell_type": "markdown",
      "metadata": {
        "id": "2cMsG8pyF_ID"
      },
      "source": [
        "## Decode Chromosome\n",
        "![test.png](data:image/png;base64,iVBORw0KGgoAAAANSUhEUgAABYoAAAE/CAIAAABnwmADAAAAAXNSR0IArs4c6QAAAARnQU1BAACxjwv8YQUAAAAJcEhZcwAADsMAAA7DAcdvqGQAACzYSURBVHhe7d3tgaI6GAbQrcuCrGeqsRmLuRcQJUhQ5CshnPNvZ0eFkLxJHtH59x8AAABAUuIJAAAAIDHxBAAAAJCYeAIAAABITDwBAAAAJCaeAAAAABITTwAAAACJiScAAACAxMQTAAAAQGLiCQAAACAx8QQAAACQmHgCAAAASEw8AQAAACQmngAAAAASE08AAAAAiYknAAAAgMTEEwAAAEBi4gkAAAAgMfEEAAAAkJh4AgAAAEhMPAHj7re/6+V6a/8FX9zq7nJv/wEAAPxAPAFR92qn+e/f5fpnt8l099ufbgMAAHOIJ+DdI5mo9pi2mMzwiChkFAAA8BPxBIREE6yh7Uc6EgAATCWegKfXlvLPjpLl2u4kogAAgCnEE9C4NzfkN3vJ9iew1O3adCqRFwAAfCWegO597n+yCVYmoQAAgEnEE5ze874J4QSbeAUUEgoAABgnnuDcumxCOMFWgl4moQAAgDjxBGfWva8tnGBLQUChqwEAQIx4gvMKwgnvabOxoLcJKAAAYEg8wUmFb2fbLrKDMKCQhwEAwBvxBKfUCydsFdlFmE/odQAA0Cee4IR64YR9InvR8QAAYJR4gvPpvYltk8h++vmEDxUBAEBHPMHZ9MMJO0T29JZP6H4AAPAknuBc3reH7p1gVzogAADEiSc4lbdbJ2wO2dt7PuEGCgAAaIgnOJHBzlA6we7eIzL5BAAA1MQTnMcgndhkY3i/32+329/f9XqpfHyJ6jev7SFdrpKSRQ7U7IN8QkoGAADiCU5kmE4s3hZWe+JqU1zvietNcfusPaPb5G6L/OJd9IkO3uwbdEQAADg+8QRnMXjPeunGtH7C+p36ZpPcPuO7+L4zskeu2aROUUCzD7uiSw8AAOIJTiKSTqy7Jxy+Jx5/hdjvPdijznDEZo8ci2sPAMDpiSc4h9judOW7+ocvMdxzjm+SK7aocxyx2TfPygAA4HjEE5xCbH+69oZw8BrvL/Bxk1zx3RNzHLHZ9+iOAABwMOIJTiHydvXq29LBa/Rf4Pnfl79bvQ8d7lClE7McsdmjiYnrDwDAuYknOINYOrH5zRPhdvP5n8HP3o/J7nSWYzZ7rEPqAQAAnJt4ghOIvlm9cjzxaZvcbkbfXrG3RXVr/zwHbfY9eiQAAByLeIIT2OO96vfX6J7+8T+XyOu1f+jycrUvneugzR6NJ9bukgAAcCjiCcq3x17wfZv8eie83SULIDZx2GZ/P/CGXgIAwJmJJyjfDvHE+0u0G832x94V38hxmz0aT+goAACcmXiC8m3/TnV8myyc2NiBm108AQAAb8QTlG/zeCK6TX78cNUUZAvvx76XFRqmvGbP/rABAGA74gmKt/lOMLpNbjKRA2w3462zveVNU2CzH+DAAQBgK+IJirf5TvD97ozr7TC75CPHEwU2u3gCAIATE09QvK13gsNt8nF2yQeOJ0psdvEEAAAnJp6geBvvBAfb5Ou1ej0bzY0dvNnFEwAA8EY8Qfned7KNtXaC709+uQgndnD0ZhdPAADAG/EE5YvGEyv9EcfoNtPfh9za4Zs9Hk/oOOznfr/d/q51ricX44yqEdAOgKfL5fp3uxsMQE7iK8ZJM3d8A9TKeOoXT1C+DbeCsae2x9zc8ZtdPEES9Y7sbUtWEU9wLvdb/WHAUZfrzYgAsvIIVNsi9TB10Vg9MnjgEQqceILybbcVjDyzhf72Cmj2TT9wBHHVnqx+e7jSH0J6HicSXxG8MyiA/PTr1/SdzPNxB6ls4glOYKu9YGSV4/3v7ZXQ7NEuqfOwn7AL2olxGs+Of6nfQez6/fB9SRUZyFBvDTx59m4fdZSqJp7gBCL72VVW5MM9puXMDtZs9nuleTP5Wv/pj+YLNve4hlv1SJgq7IO6HifxmD0uf/F7mwef+TCjA5npLyCnTt9N7TvOXC+e4AyGG9rK4oWHdCKJ1Zq9fqImkOjZ5RpG4wm9hx2JJzifpuh/7u39CcbQALLyvn6cVqSaRx2onoknOIXhlnb5OB08p4XMHjZo9vtf95z7ZARb9Ef4hXiC06kK7/e+3l/8S42BjDwK1PUarCInVKmjpRPiCc6hv+B4WDhQpRNJbNLs3ZPusxbdoDvCb8JOqPNxBlWfn1Thw1nG2AAy0pSnqpCFZep7XXs+6jDEE5xDbEO4aKQOntAqZg+bNPve6cT6vRF+FXZCxQs6xgaQpy5nCPOJb3XqcOmEeIKziOwIl6w7Ntkm880mzd496V4XMZxVWtIJ9mULBiOCCq0yA9kIc4bpk/jx0gnxBKcx2NkuGaybbJP5ZpNm7550r4u4aleEWcJeqHxBoIsnDA0gG01pelWlqbP4AdMJ8QTnseKmcPBU1jB72KTZuyfd6yKu2BFhrrAbql/Q2X9SAPiqKU1hVeqS1A/ryH6mcRDiCc5juC2cO17DitCwvdzDFs2eYCE6OI1Mpo377e867ZvjKIB4AuJeJdrAALIxSCf668mR5VvkUb+41evC/QuheIIzWWl/u8U2ma+2aPYE6US4LWxksAS+VxNQdSDXvwSTEGmIJyDqNdOY2IFsRHOGcGEcnckXphP1+rB5hp3Xh+IJTmWwNZyz/pBOJFFqOpG49zySiWrqkUzMcq9vOrleLv2rWv37cq1n83wbNeyI4glmOmz/H/ecaczrUIwSKlVTmgZ16ctU3vz34in+EVHsmVGIJziX983hjEE72CZvsbavK2lXR8O9Y11k6/87245ik2Z/PenryZqGb39YTV3r1+K380h6GUUTS7St91WmN6WIJ1jk4P1/zHNcGBNQhGIqVTyd+DKXP/5zlaz12ZD7rBjFE5zNW0CR3SKkDikfJaAulpV2u9yUl25va/G0grd04q1rPK3a1G/pRLo36F4zjY70u6nrnUB2GdDHJQ18UEL/H9EWaCMCjq+oSjWWTlTCdWX/N1ZMJxrPBt2+mcQTnE9/h5jTOqTbMr6N/LrEVAfaHbnV0wq65qyK90g28bBacc+k7z1Ptppi2p8w2cee8lFWzR2ehnLCZIX0/6i2PiuLcHiFVaqmOI0dWLiy7P3Ox0fN83qtbdcN4gnOKBzK2SzNn6lkPJSsK23wqTnrp+W6XnD9a+axOg9u2779oN3LSp0ki473ej9BJ/rd/BVPa3qj9zrLXOMvJ57gd+X0/4jHKxoMcHjFVarmhMaLU3gQwW81P/6pCk7yerUNq6V4glPql671B+/PXndMTao+ORzx4fXnlEjD9zrJGi3ee8INy/on3THoQ7/r95mZpl75VV5s/CqHvTFRZ+RgSur/A4/XUxbh8MqrVM18/emIohN6c2ib1LTupLdaPYgnOKuwpGw1viZ61ZVPZSQ8Xkuo5abszoI2X6GLpO9xwTnrQr8LL2Dj8dWpve/8rv4VfrnqiBxaf8oAgE5Z/b/vMRqMAzi+AitVU6A+16fIjN40xFZVLXi9TV5CPMF5hTUsYRV6HcbnYwiONr/F3fEEpXW8Odesv5G5Y2d60CJhuagv4Zcvhvr8nVxpekBP+g7JkZTW/0PNuRkEUIASK1UzW389lvDM6zXetEfNF64h1l9Tiic4s21H1ySvgvKliASHahm1XNecn1pzxUYPJo40PS04AB1ohjntF3yX7UDyhCgsfnoEXxTX/1+ageBLgqEIRVaq5vi+H0l4Gtdb8wVq287t/Rdsf7gS8QQnFwyvBGWo2yJ8efEVN8qEzfmxNYNWX9Y5ul6W5uoFJ5Kknx9eOFB/u4Dh/N2T+jKEfUJN4aMC+//D48SURChCmZWqObYpxxHO6o3Np/aw2dZ9MfEEpxcM6L3r0GtkfxvWwTHaSSzXNefn1uwq76JW7y5zmomuN2XpPzM8W3BW44XzdyjxqifsFToFn5TY/yuP0/p1GwNkqsxK1RzYtKMIp/Xa9sfea7U1VxLiCQiH9J7r9OmvGpac9Iu6w5va8Ot0i2f1TnX7cNh59u3gxWibcHbbxZc9iS9F2C/0Cj4os/83RzXpIO6311+cBrJVZKV6HNXUg+iv9/ZYdPZfcb3GEk+wmaDTph7eE3Tfj7PXLrKrhF+apzf6pRPLvVr+c8N37T6//37/g7Fb60+4BxiJGXq04YKh178IrcTXIiwr+XSLY80aJ1Fe//8hm2gOPvm0a1zsQCMfXXmVqvJDrWoE57BP3QqXEpW1XlQ8wWaOV+ufR7zL+9xd83xpnV7BTL5MKsCrQT83fHeB5jZ6+wxVd0rW/d9mW91njuY6Lqthb9ehkbgqdv07+aEEgqPK56BOrrT+PzWbqP/0YBMvZ9ATjYsdaOSDK61SNR5H9MvS7XUOe633goHTWOd1xRNs5pi1/nnUWx9y0Dofx3K/WtpeLvdq0c+X+HWB5vWE58L2mrLrv88aBxqHOal7zNKm64/jRuKrER5RPh3jmLNG2Yrq/+81cYIcOqJxsQONfHAFztTPPvnT0r990H7H/V5VV3ll8QSbOW6tf20tN3zXOyiC44WnbsLL39/rVw/Wjll6Nfznxnz+2pwm36P/TPE+0eo+6UQWPQmzxufbwp26s+bQO447a/BJHv3/fRU9SRb90LjYgUYmo5m6P0s3M/TUTtn05D378KCyrtBm4gk2c+xaf7/91aVhsy1mUARHBnLTftXLd79pylzu1ZofG/PZd39u8a27zQ8GE4buk9Bw0ZPkckTWXu8SpiaVY88ajMmh/0/o/BFpx8OTcbEDjUwOlepjoZpWj6quvO9hD455ed1cL56oP6ZXrcyvl0u9OJ/cLk0+9CwJaW+E3l3TZLe/R6NdPl7NIEY7TiOVUOvrdt9meRKO5uErPK5302zdLz5bcXqGyrtXp/zUJZ+/9PuVr7vLX/pkohYMv9Y2HTmiKlfPsvZ+DPWPrnUTna0LD1ccu12OQznMrKGT/0T/X6aE1VT2jtTI6s9GVKp5Bu22eAgtiCfqvfVjeLQH0zPlyLotd6DQ0lvtKNv2qutJe649o0Mg0kzHGC4m1E/6u8fu3faqnzyud9tmwe89Lnu9A1YuZ+pac7wN2zKbwf0PS/T7V237QdjeOjJVNknODoaXwyCOChoqz1lDJ59D/18o+3FRgiM0svqzLZVqpmHDLR1DM+OJYb409OXQhufyVF5nqJvrEWiOhDmVeHNFE5zll30fJtSPxkdApWuwbqw1A0M4scy9ndsv8Um7HXDH76+REr1lv4mtmZqFUdeOdUD7y7qqVk7deL8eKuKIjGcNnXw+/X8hq6kd5N3I6s8eVKq5hmvOhW23YTzxaTn8cQQV3x1i+9LYSY/vX4/RRCbUL+IXuJpwgsYKf6eJuEThiz1n8PCNhWpaf8z9ZbRwpEJvNgYjC6IPjThe1YbKKRvvZ60gjsl01tDJF9H/l8p0XJQl30ZWf3aiUs0W6XXLWm+N7554LOxjwyF+bN+GTvlvDg9bYNhSH1vpGEMmOAVjfEQvEH9Lwh9e81K4mWax97J1ibb+QcWqxzZ1NfJKXwf7tHS7pKrx3kpugBqV46yhky+k/y+W47goTqaNrP7sRqVaYO03xdb7aszYEIpd3K+j5gTDZdBU7+ccbcvAMcZMcBZqIOwmVj+2GIKx15lUm6atnYpZGry1k2r4QXazhk6+mP6/XHbjokQ5NrL6syOVaolYV13ShCvGE5XIeOh3/u7wu7eCwzcxq5/+ci6x1tjD0k47aKd+Kz3/u/14/PAsD1JRggM3zGE3sYXJ+kVjwatEKvdBitocb2db8JmuILNZQydfTv9fQWbjokz5NbL6syeVapFIj1vUiOvGE5HD6w3ybt+9zsiPtsYOFh7/4LDDC/j8z+Bn7xXqKIMmOE8TKuwltqRZfQQuWDdVIo8+Sln7Wb/eF3uaK8lq1tDJV6D/r8Fqage5NbL6syuVaqFYf13QjivHE5Hj60Z5+18rDvt+b9rPslMYHHVw+eJt1GvULMrmJCZU2F+0LK48AmPz0C8vEXl8qTWid6qWPN9kNGvo5GvQ/1dhNbWDvBpZ/dmXSrXUykvP1eOJ4fG1B9de+lUverQxdrBsjL8Xja5JHv9zibRR96cGDlRdTKiwv8iqZI/C+9MrRI6xzBrRaypl8LtsZg2dfA36/0qyGRcly6mR1Z99qVTLRfvs/LXn6vFE5ADrg2sHyuzjLMh7zXgNhMd/FDQucqr1cBIrTxER0Vf46QViz1Bijeidp9lvilxmDZ18Bfr/anIZF0XLqJHVn12pVKuIJGILOt368UTkAK9X4cTLe81oL13746KaKDhVVRH2EVuVrFtZYnPQ4oVTidND2FBmv2lymTV08uX0//VYTe0go0ZWf/akUq0j1mvnt+gG8cTIEbrojfea8SiC7U8LayITKuwuWn/XHICxdc9vzx87xPJKRHCW6t9kmcwaOvli+v+arKZ2kE8jqz87UqnWEut0ecUT0UMUTjTei04zGB4/zHhcxErlLvQa+FF0hlizuixeOZ1i4XT6Jc+xZw2dfKHT9/8xVlM7OHwjqz+7UanWEx93c5t1k3hieIiu+sN7yzTt0oyOrFvoQLW+fSAUpO3ck6w7QcTEXuGXkXqChVPYRGfaFYQONGtE6ORL6P/jjj0uDuLwjaz+7EOlWlV83M3teJvEE5FjdOEb7zWjapb8w4nj1Pr2UVCctot/t+4EERVZ+kx//ujxlTU/BKd4vZ12RXiUWWOETj6b/v/JwcfFMRy/kdWfHahUK4uPu7mrz23iicjQMjQq781yvTU/WXXrsIUD1fr2gVCQtnNPsu4EERdZOk0dqpGHFjY5dGeYfWHf1IFmjSidfB79/7Ojj4tDKKCR1Z+tqVSrW3f1uVE8MRwfrv+wUa7Xa3Uty22ZoKu6/LCLdSeIEXOXTpHHlVUauta/WA/Oks+soZP/Tv/fitXUDrJqZPVnSyrVFoIBFJjb/TaKJyIHaYC8V43LpWqkkpvFhAq7i6xONhiAw1f5+hK3Oo3tK6wudI1ixTNXTrOGTv4b/X87VlM7yKyR1Z+tqFTbiOz8K3N74DbxxHBUVc7eDaIXruhGMaHC7qLVd4NKEyloo8P8fov8cmGf9uzaQ7VbIK9ZQyefTP/fVF7jolDZNbL6swGVajOR/lqZu/jcIp6IL493WiDvYk6njh1r4YlNcMrKAOxj3Rnio9hL1QuibrDfqzVT5P2c619hq6auJZS6ZbKbNXTyCfT/rWU3LkqUYyOrP6tSqbYU66w5xROPcOLy9/jWx9D6vSHeFtubcSaRQy1+dATnrBLAPtadIb66R24nHXXpr6tK8ZrrqtNrf8RMWc4aOvlH+v/2rKZ2kGsjqz8rUam2Ndj112YPpbXjiXZ415d+uEpevUMMX2Ifvzd35Ehnt8a9cqv8Xevv1my+wSLPoZZrrYeSrTtFTNO8fxOrxnWBul7//m7FvpPTrRyteFaQ8axx4k7+gf6/C6upHeTdyOrPMirV5qJrz9mtvW480R5bezTDI127U0Q2/bv4vXKt1Rb181SlqH2Op0wHmwkV9hcti9uPwPodnscLV2ulze8rrSPadrGWsrh0bX21NFxF7juEPTt543Hr9qtRKo+XzqJt9P+9WE3tIPtG3r/+BE0SmtI80b3q097tq1LtINpZ5l/pNeOJtjN2BzPonXmO+B2slU507n/dU2aaTuRf66FE0WXBhlWiu/V04yVTvVMbvoGUrLh0BW7RIdzdiRvIddbYrZMHuteMqm/ibn8zCf1/R1ZTO8i4kVPUn07k6y2mLiiqRwYPTFOzVKp9BOOnM3/luV48MQgnYsd60rq6RU7TPWeu6YQJFZKI5RPbDMFgA7X5GK9eql6Z1Z9r600saYrLSiue5lJlW8ITyHDW2LOTd6JLvYFkbaT/78tqagd5NnKa+hPRL0nTR+3zcWmOXqXazcoLz7Xiifaw3o6k35trI1e3Gn7XpONuU4NrtsIo7Z4z3wGTZ62H0g0L7yZDMHiZvatQWFMTFJdgxbPkzNunseYJ5DZrJOrkzw5+6X/P3fBNzCTdR//fXW7jokgZNnKi+jMiOJofmijhOO8OWKXaXK93tJaMo1XiiedBDQ9ksDGPXt/m8eWW3ME1W+FUu+fMuN2CEy/36kJ+BjWnsvLU2nuJ3aft8NXnFZf6LalXEf3pjtOg+C447+6eV2ueUFazRqpO/lg4XUZu4g7eTX2Yc2T6/7GkGhfz+0m6x86WVfGppKo/o3oHNLmNmnI2u0FVqqPo946HJW22QjzxivljvW+QTwx/a1nXzd/gkq1wrsGwy7jhgjMv+PpCfiITxbpj8K2y7z1xh+c348TmN0+1VHo+YMY51391qVrt9N4Bt+bpyWnWSNXJ69f9cvL9Q/u1pfT/w0kyLub3k3SPXSJJI49LPMkOvV+XaY3UPGpme87vCSrV7t76a21Rm02NJ+7Py/T2IYxX5xnpMsPO1f/Fx//P7LmHMGiBFU62e86sWy449ZKv8GLDQdKY0maRetDR6CcW6VQrzq6xLrvrN3aFB/BzP5894LoVz3qsefqCi5O4gCXr5FVV/37q/aP7qRfp/weUYFzM7ieVVI9dJkEjj4s1w66T7MDjiK7XYNU5Yfg2j5rXnLN7gkqVQORqLWuzafHE+ybocdNhfc9N+4Pxgxgecde12v9LXwc2NDj/Fc62e868my4496Kv8ToO/t3IZGZYeVecXyNP3qm/wLKaITbthOEB/FpcRg/+4xNV0137a6uy5nmTz6yRqpNXrzupV4Qd8pem0v+PaP9xMa+fPKR67EL7N/IHo+1Q22OSHWhKQDViw1LwfQA/H/W7eT1BpUojcrUWttmkeOLb1f54DJFjrgfWaydW+EUftN3y8+1aNH0F/Si49JkfaT76w2V6Z3k+TkPTGlbeFTvH1BVAtYqq/9jG6suo8OR+Pa1hw7TGn2j0IUsVPv3NEDR16mKWupN/MXcM6P9HtP+4mNFPXlI9dqH9G/mT3OpPczzNiA2P7FtDdY/62YyeMPqQpVSqbwbddfEQmhJPfL7gXw/h0xjLoARsa3Dyyzt5dzlyb728av1R9Ibb5HZrH6WG0tmg+nQ+1fUR9Ts+Ky2iwlHya3HpjbDQyBON/v5iyuJQ0NrpmydtJ/8mOLpfRrb+f0T7j4tf+0ko1WMX2r+RP8uq/jQH0xaa8Bp9bqnwUb/6tSeM/v5iWfSGvA0af3mbLbx7YtIBjPWZE9yDPmi5FfYHr+d8NX7vUwGP6vT4j8SCC290T9YfLlMbrukVWpmeQeldM5+4/43OC99URWrhCio8s5+7/ciMFH2ekd9dhfEaETR4Bu2TtJN/0y0vfmsp/f+AEoyLX/rJu1SPXSZBI3+WUf3pLzHDa/SpqZpHzV52/NITRn53FXl0hqwNmn+Ftea0756IXvgfPuLeTaNP57jcg/Ne4bRfz/l4rl/G796CYzO8p3q/oNNarnmURubNvN70Vfe1Q5dr5fVnv370wxTyLjyxGSf13i6VkWcZzl2rMV5jgkuTtoHSd/Ivupb6uaH0/8NJMi6m95OhVI9dIkkjj8is/jRNEzZKWBlGt6LNLy1pyuk9QaVK6q35V2myafFEJXyHfs77892f/thuuj6DrhNUFSEydDtrvlHKXh6XtJqNHhexNuFCDqYOeHirEYs7Sbho6hfy+62eIz5UpKiZBxSe1rynqE/keSbmJEKZdPIvXmuBWU+v/zPFkn6S6rFHl2H9iSwxww3pyCJ1lYWpSnUAb+nEOrvPyfEEWQjSib9mgV4P13a89v9+wyo1ib01F7ga2xNKf+D5KBjoTxwLqkK3aKo726enaf9ieK8cjZvTcZfHExCRUyf/7DWuFX4oRKb1J5ozhCuL6CS8SjrBAay2yOwRTxzK104QrtotW46nucDNdfta+gPdo2CoVzbmTR3hqunLsulNtYq6/X2+N3XGIYknWF1unfyj56BW96EIGdef+BLzyywsnTiLFVaYMeKJI5myJg86isJwNOEkMH0DFp864CnsS3O6Sm/2WdDTwo8Ihn6vVNNHB0ySXyf/4Nn/9X0oQs71Z2yJ+XEafvzngjPhGHrLyzVnJPHEgQS9YHzMB79k6XIwzSTwumofS39gbOqATrj4+a0w9CafNTpa/wkbPz/r1MEBU2TZyce1o1nPhxLkXX8+LDHDdUX/Nx5HsGLRI0/zl5bfiCeOoys4n/pAUJYsXo6luXThRRsv/YHml1xqvpnUm4bCh6222ug/6Yz+G66+dH4WyrOTj2mf2MofipB3/WmeaOygwlfp/c7HR1GKLVdi4onDmJZOhL1FaTiUQTrxofR3Io+CqHAmmVgcwodU1isp/bXTz88bHpfezyK5dvK4x5Pq9FCGzOtPc3jj9SZ8keC3mh+vdyrkKbj6619s8cRRdCXs88Kk6y4WMIcSnQRGSn/ny9QBPT/OJm8LpxU7Wu+Zf3/e8OG6P0tk28ljHgPYsh8KkXn9aZ7k04PDV3n9XlOnlKnCbbzbFE8cRFcCPveDqb9HbuL1PFr6O1+nDugLetT31UPY/Sor9rQvHfubhQ+Hl2w7+cDj+fR3KEfe9ad5js8PjrxMs5pVqMr2CicuG+VQ4omD6HrCxEKhNBxLPJ34MsM8/lNGzU+mV4mw99VW62rhE8950o/DAn6QbSd/Y8kP5cm6/jTP8bXovLYnlfqVpj2KI3te862yiYp44hh+Tie26zJsYSydqLyX/s7jcrvU/Kz7E+ufu0+4wqmt1NmCPj3vGcPjsgxikVw7eag5xg1XgkAaOdefDwvTUH+RemuKlWm5XM/l47YXWTxxCK/BPzGdUBkO5uMk0C/97Q9rE6cOiHmWi8+bnrD31a63pbUlWI3NLlThik61Y6E8O/nL48lUeihStvVn8hIznJAbZuVitde6WjdufInFE0fwKl6fh/zz1xSGo2nG+/hlCyev4LcmTx0w4rmq+FQzwu7XmF9g7re/510by+pUuBpa8jzQyLGTPzy6+uZLQSCZPOvPD0vMcEauWZgWqb3t9nLdY9ElnjiAV+X6WGqmbDTIUnPpPl236Gbsh6kDxr1mnNEdUPdRkJdqfvppw3TvPcevjx6IjgiYL79OXqmesH6mKT38frvdDQQ4pgzrz/TiU+nnExam5Wl71/Z3TTyJJ/L3GvZTNrCqwvE01+7zJBDZjf00dcBH7TsuXyKKrhM+Xao10F+9LxrujOqf3W5/f9f+qmuNTVt0QMBSmXXyH2p8/asmfziyvOrPr0vM5vcflKKyfF8fbkE8kb1uIT4+5Nu64AbQI5qQTlSC0t90hGmPgh/Uq6PPC4tqMRTcOfqLZsW0WncVT7CZLDr51Gyi3p80B2sYQAkymWQfS85fgobXIlU6UZZ6XbhG4PUj8UT+7m2pusT7h8XJwTU1/Xs97+cTvhuZtJp3ba7X66XW9stA8+Pqv5t3fdqHrCgcDYYBG0nVycP0bSKjAAqTcJJ9lqCfkob2QWoRaxBPHEObQfRu2nplrDvfccOqJqYT3XzxYhLgjKrC9/beUl0BjQXKMCObMBkA6+hPsM3kOrW4NLVLLWIV4okDeeQRQd1Y935pUpicTgyXre6g41TCWyZGGBMc24ROHqHfA8t8rD2TF6nSCdYhnoCEmglhaj3v5xNWpAAAQEHEE5DOT+lEJYi3pRMAAEBJxBOQzCNt+CVoeOUT0gkAAKAo4glI5PlZjZ+ShvZBPt8HAACURTwB+/PdyAAAAD3iCdhR8OURQ9Nuo/DdyAAAQIHEEwAAAEBi4gkAAAAgMfEEAAAAkJh4AgAAAEhMPAEAAAAkJp4AAAAAEhNPAAAAAImJJwAAAIDExBMAAABAYuIJAAAAIDHxBEx3u/4r1eXv3p4kAADA/sQTMF3B8cS/6609SQAAgP2JJ2C6+9+l3cyXRzwBAAAkJJ6AnxR7A4V4AgAASEg8AT8q9BYKXz4BAAAkJJ6A3029hSKPLf/9fr/d/v6un1MV8QQAAJCQeALmmPwZj7w+M3G/38ZSCvHEqPsz2rlcNRIAAGxEPAHzTP6MR377/vih+/KJEb0oSisBAMA2xBMw27E+49E3PHYb7zHungAAgO2JJ2CBybdQZLj3fz928QQAAJCOeAKWOfAtFP2AwpdPAAAA6YgnYKmDfk1mLQwoxBMAAEA64glY7rif8QiOXDwBAACkI56AVRz2Mx7dgfvyiZ575Vb5u1YulX8XLQQAAJsRT8BKjnoLxSufsPl+qi9lHUi8XVANBAAA2xFPwGomBxRZ3ULxOmq776HwkmofAADYkHgC1nTEz3g8t+C+fGIoiCekEwAAsCXxBKxr8i0U+Wx320xlu3jifq+/weH9wxL1pyeu17/bPd9URDoBAAB7EU/A6o52C0W7Cd/icO6366S05lLHFO1jMuJ7QwEAYC/iCdjA1IAik11ve7jrHszUZCJwueaVUXSX0QdfAABgY+IJ2MQBP+OxpsmnP5DRX++UTgAAwH7EE7CVqbdQFLf3nZ9NtKYnFJNvU/lk5OWkEwAAsCPxBGznlLdQrJIYTA0ENownpBMAALAn8QRsaXJAUcoWeJAXXJpvvez9dY7qX7e/r19MkTiykU4AAMCuxBOwsalv8JewC+6f6+XbX+P4/O2ZSRtEOgEAAPsST8DmTvMZjyCdmLypv3+Ib9K1R3DJSvrgDQAA5Es8AXs4wy0U3Zb+178POto6qaIB6QQAAOxNPAH7KP4WiucJzkpYxgKKNI0hnQAAgN2JJ2AvkwOKQ95C0Z7d7GOPBxRJmkI6AQAA+xNPwI4K/ozH49QWbOejbZOiIWLpxO16yMwIAACOQzwBu5p8C8XB3rdvzmvZFj6WTyQIBSLpxO16kU4AAMC2xBOwtyJvoahPaukBRxomQRt0R9G8eP3HT2UTAACwOfEE7G9qQHGyrz6INMv+DfB+e8vlKpsAAIAdiCcghVI/47HIMJ5IcdtCfbtE++rXvx//QioAADCXeAISmXoLxXk+WTBskXPdPQIAAGcmnoBk3ELRM2wO6QQAAJyGeAISmhxQnOEWivebJ3whJQAAnIh4AtLyGY/W4DsppRMAAHAi4glIzWc8au+t4IMdAABwKuIJyIBbKN7SCbdOAADAyYgnIAtTA4pC7yp4SyfcOgEAAGcjnoBMnPkzHv1zF04AAMD5iCcgH2f9jEfvvIUTAABwRuIJyMkZb6HonbMvnQAAgHMST0BmTnYLRS+ccOcEAACclXgCsnOmgCI8V+EEAACcl3gCMjTlMx6FhRM+1QEAAKcmnoA8fbmFooQ7DYQTAADAk3gCcjV+C0UJm/nw7HyqAwAATk88AfmKBxQlbOaDM7ve3DgBAACIJyBnt+t7QFHWpzp8qAMAAGiIJyBfg++fKOtTHRcf6gAAAFriCcjVIJwo68YJ2QQAANART0CWBl87UdiNEz7UAQAAhMQTkKESb5yQTQAAAOPEE5CbIm+ceAUuvnACAACIEE9AXkq8caL7+yOyCQAAIEo8ARkZ3DhRwH6+O6frzYc6AACAOPEEZKPAT3Ws9IUT97tgAwAAyiaegEyU96mOlbKJpmF8KgQAAMomnoAclHfjRJBNLIkW2qeRTgAAQOHEE5BecTdOrJNN3G/Pp5FOAABA6cQTkFhxN050f6djTjZxr93+/l5PUpFOAABA8cQTkNTgxomDhxNdNrEe6QQAAJRPPAEJlfWpjvvgdFYhnQAAgBMQT0AqZX2qY3A2a5FOAADAGYgnII2ibpzYLJs4/l8wAQAAJhFPQAJF3TixXTYhnQAAgNMQT8DuCvs7ott840RDOgEAAGchnoCdve/mbcEBAADEE7Cnsr4OEwAAYCXiCdhPYZ/qAAAAWIt4AnbixgkAAIAx4gnYhRsnAAAAxoknYHtunAAAAPhIPAFbG4QTbpwAAADoE0/Ato72qY7H8V5EKAAAwJ7EE7Ch432q43nE4gkAAGBP4gnYzAG/DvOZTvhyDAAAYFfiCdjGIb8O83XQbp4AAAB2JZ6ALRzz74i+0gk3TwAAAPsST8D63sOJg+z2uxs+xBMAAMC+xBOwssGnOo7yQYkgVPHZDgAAYF/iCVjVMT/VUQkP3M0TAADAzsQTsJ5Dfh1mo5+quHkCAADYmXgC1nLYGycO+3EUAACgGOIJWMVhb5wYHLjPdgAAAPsTT8AKjnn/wf12HUQTNTdPAAAAexNPwGLvn+rI/e6D+/32Fw8mGm6eAAAAdieegGWO8KmOe+V2+/u7Xi/jqcSLeAIAANideAKWGHwdZgF8tgMAANideAJmi3yrZAHcPAEAAOxPPAEzlXjjRM3NEwAAwP7EEzBLqeGEeAIAAEhBPAG/K/NTHQ8+2wEAACQgnoBflXvjRM3NEwAAQALiCfhJyTdONMQTAABAAuIJ+EHZN07UfLYDAABIQTwB05WfTrh5AgAASEI8AQAAACQmngAAAAASE08AAAAAiYknAAAAgMTEEwAAAEBi4gkAAAAgMfEEAAAAkJh4AgAAAEhMPAEAAAAkJp4AAAAAEhNPAAAAAImJJwAAAIDExBMAAABAYuIJAAAAIDHxBJTqfr/d/q6Xy79//y5/9/aHAAAAORJPQFHu99tfm0kExBMAAEDexBNQkNv1crn+3Sp/vYBCPAEAAORNPAHbu/9dH2nB5bpfTnC7Ni/ZEE8AAAB5E0/A5sKg4N/11v50a/fgBgrxBAAAkDfxBGwvyd0T4gkAAOA4xBNQKPEEAABwHOIJKJR4AgAAOA7xBBRKPAEAAByHeAIKJZ4AAACOQzwBW7lXbpW/a+VS+XfZ7c92VMQTAADAcYgnYAN1NFAHEl1A0NgznRBPAAAAByKegE2FIcGu6YR4AgAAOBDxBGwqCAn2TSfEEwAAwIGIJ2BLX9KJ27X9zyVGYg/xBAAAcBziCdhSlz9EQwTxBAAAQE08ARvq4of9AwLxBAAAcBziCdhOynRCPAEAAByIeAI2kzSdEE8AAAAHIp6AraRNJ8QTAADAgYgnYCOJ0wnxBAAAcCDiCdhG6nRCPAEAAByIeAI2EYQDI3/4c2viCQAA4DjEE7CFielEd4vFAiMvIJ4AAACOQzwBG5h674R4AgAAoCaegPVNTSc2JZ4AAACOQzwBq4ulE7fr3hGBeAIAADgO8QSsLZJO3K6X3RMC8QQAAHAc4glY29ufFL2nyCYq4fdaiCcAAIC8iSdgZeFdC7XLdf9s4F5nIu3rP1yut7uIAgAAyJV4AtbWRQOX699t30xgwp8CSfdlnQAAAGPEEwAAAEBi4gkAAAAgMfEEAAAAkJh4AgAAAEhMPAEAAAAkJp4AAAAAEhNPAAAAAImJJwAAAIDExBMAAABAYuIJAAAAIDHxBAAAAJCYeAIAAABITDwBAAAAJCaeAAAAABITTwAAAACJiScAAACApP7773/igEhgxWZ+LgAAAABJRU5ErkJggg==)"
      ]
    },
    {
      "cell_type": "code",
      "execution_count": 2,
      "metadata": {
        "id": "Xh2x2EHhCnNW"
      },
      "outputs": [],
      "source": [
        "def sigma2(arrX):\n",
        "  result = 0\n",
        "  i = -1\n",
        "  for gen in arrX:\n",
        "    result += (gen * pow(2, i))\n",
        "    i -= 1\n",
        "  \n",
        "  return result\n",
        "\n",
        "def decodeChromosome(arrX):\n",
        "  upperRange = 5\n",
        "  lowerRange = -5\n",
        "  base = [1, 1, 1, 1, 1, 1, 1, 1, 1, 1]\n",
        "  result = lowerRange + (upperRange - lowerRange) * sigma2(arrX) / sigma2(base)\n",
        "  return result\n",
        "\n",
        "# decodeChromosome([1, 0, 0, 1, 1, 0, 1, 1, 1, 0])"
      ]
    },
    {
      "cell_type": "markdown",
      "metadata": {
        "id": "DZenIMcdqnN6"
      },
      "source": [
        "## Fitness Calculation\n",
        "![h.png](data:image/png;base64,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)"
      ]
    },
    {
      "cell_type": "code",
      "execution_count": 3,
      "metadata": {
        "id": "KQlRiEJ0sHDG"
      },
      "outputs": [],
      "source": [
        "def h(x1, x2):\n",
        "  return pow(math.cos(x1) + math.sin(x2), 2) / (pow(x1, 2) + pow(x2, 2))\n",
        "\n",
        "def f(x1, x2):\n",
        "  # a = 0.01\n",
        "  a = 0.01\n",
        "  return 1 / (h(x1, x2) + a)\n",
        "\n",
        "def fitness(arrChrom):  \n",
        "  # decode x1 and x2\n",
        "  x1 = decodeChromosome(arrChrom[0:10])\n",
        "  x2 = decodeChromosome(arrChrom[10:20])\n",
        "\n",
        "  return f(x1, x2)\n",
        "\n",
        "# fitness([0, 0, 0, 1, 0, 0, 1, 1, 0, 1, 1, 0, 0, 1, 1, 0, 1, 1, 1, 0])"
      ]
    },
    {
      "cell_type": "markdown",
      "metadata": {
        "id": "XMa6s6Q4MBYq"
      },
      "source": [
        "## Parent Selection"
      ]
    },
    {
      "cell_type": "code",
      "execution_count": 4,
      "metadata": {
        "id": "0wA72tpRMVcV"
      },
      "outputs": [],
      "source": [
        "def rouletteWheel(population):\n",
        "  # total population fitness\n",
        "  populationFitness = sum([individual[1] for individual in population])\n",
        "\n",
        "  # create probability each individual\n",
        "  individualProbabilities = [individual[1] / populationFitness for individual in population]\n",
        "\n",
        "  # select 50 parent based on roulette wheel\n",
        "  idx = [i for i in range(100)]\n",
        "  selected = np.random.choice(idx, 50, p = individualProbabilities)\n",
        "  result = [population[i] for i in selected]\n",
        "  return result\n"
      ]
    },
    {
      "cell_type": "markdown",
      "metadata": {
        "id": "ONuRlSpwHEq0"
      },
      "source": [
        "## Crossover (One Point Recombination)"
      ]
    },
    {
      "cell_type": "code",
      "execution_count": 5,
      "metadata": {
        "id": "kTixCn6iHKyl"
      },
      "outputs": [],
      "source": [
        "def onePointRecombination(population):\n",
        "  # Pc = 0.9\n",
        "  pc = 0.9\n",
        "  result = []\n",
        "  for i in range(0, 50, 2):\n",
        "    if random.random() <= pc:\n",
        "      T = random.randint(1, 19)\n",
        "      # child 1\n",
        "      result.append(population[i][0][0:T] + population[i + 1][0][T:20])\n",
        "      # child 2\n",
        "      result.append(population[i + 1][0][0:T] + population[i][0][T:20])\n",
        "    else:\n",
        "      result.append(population[i][0])\n",
        "      result.append(population[i + 1][0])\n",
        "\n",
        "  return result"
      ]
    },
    {
      "cell_type": "markdown",
      "metadata": {
        "id": "r-0Wcum_Lhv1"
      },
      "source": [
        "## Mutation"
      ]
    },
    {
      "cell_type": "code",
      "execution_count": 6,
      "metadata": {
        "id": "wZb40qX9LkZC"
      },
      "outputs": [],
      "source": [
        "def mutation(arrChrom):\n",
        "  Pm = 0.1\n",
        "  result = []\n",
        "  for gen in arrChrom:\n",
        "    if random.random() <= Pm:\n",
        "      result.append(gen ^ 1)\n",
        "    else:\n",
        "      result.append(gen)\n",
        "\n",
        "  return result"
      ]
    },
    {
      "cell_type": "markdown",
      "metadata": {
        "id": "y0NkfPJE8o39"
      },
      "source": [
        "## New Population"
      ]
    },
    {
      "cell_type": "code",
      "execution_count": 7,
      "metadata": {
        "id": "UvAuXvHk8wBf"
      },
      "outputs": [],
      "source": [
        "def newPopulation(oldPop, newPop):\n",
        "  # find all fitness in newPop\n",
        "  newPopWithFit = [[chrom, fitness(chrom)] for chrom in newPop]\n",
        "  newPopWithFit = sorted(newPopWithFit, key=lambda l:l[1], reverse=False)\n",
        "\n",
        "  # sort oldPop ascending by fitness\n",
        "  oldPop = sorted(oldPop, key=lambda l:l[1], reverse=False)\n",
        "\n",
        "  # elitisme, memasukan kromosom yang lebih baik dari populasi sebelumnya\n",
        "  result = oldPop.copy()\n",
        "  for i in range(100):\n",
        "    while (len(newPopWithFit) > 0):\n",
        "      if newPopWithFit[0][1] > oldPop[i][1]:\n",
        "        result[i] = newPopWithFit[0]\n",
        "        newPopWithFit.pop(0)\n",
        "        break;\n",
        "      else:\n",
        "        newPopWithFit.pop(0)\n",
        "\n",
        "  return result"
      ]
    },
    {
      "cell_type": "markdown",
      "metadata": {
        "id": "-Y1FLrlJV3y2"
      },
      "source": [
        "## Main\n",
        "\n",
        "\n",
        "---\n",
        "\n",
        "Data structure for population:\n",
        "\n",
        "`[[chromosome, fitness]]`\n",
        "\n",
        "chromosome: array[20] of integer\n",
        "\n",
        "fitness: real\n",
        "\n",
        "`[`\n",
        "  \n",
        ">`[[1, 0, 1, 1, 1, 1, 0, 1, 0, 0, 1, 0, 0, 0, 0, 1, 1, 1, 0], 35.0],`\n",
        "\n",
        ">`[[0, 0, 1, 1, 0, 1, 0, 1, 0, 1, 1, 0, 0, 1, 0, 0, 1, 1, 0], 6.35],`\n",
        "\n",
        ">`[[1, 1, 1, 1, 0, 1, 0, 1, 0, 0, 1, 1, 0, 0, 0, 1, 1, 1, 0], 1.34]`\n",
        "\n",
        "`]`"
      ]
    },
    {
      "cell_type": "markdown",
      "metadata": {
        "id": "RuPUenRwZXIu"
      },
      "source": [
        "### Create Population (Generation 0)"
      ]
    },
    {
      "cell_type": "code",
      "execution_count": 8,
      "metadata": {
        "id": "60pK5tVWZiMA"
      },
      "outputs": [],
      "source": [
        "def createChromosome():\n",
        "  return np.random.randint(0, 2, 20).tolist()\n",
        "\n",
        "population = []\n",
        "for i in range(100):\n",
        "  chromosome = createChromosome()\n",
        "  population.append([chromosome, fitness(chromosome)])"
      ]
    },
    {
      "cell_type": "markdown",
      "metadata": {
        "id": "5Z2y9nqmmacT"
      },
      "source": [
        "### Generation Change"
      ]
    },
    {
      "cell_type": "code",
      "execution_count": 9,
      "metadata": {
        "id": "udHQLceI7YOn"
      },
      "outputs": [],
      "source": [
        "def printStat(population):\n",
        "  maxFit = 0\n",
        "  chrom = []\n",
        "  sumFit = 0\n",
        "  for individual in population:\n",
        "    sumFit += individual[1]\n",
        "    if individual[1] > maxFit:\n",
        "      maxFit = individual[1]\n",
        "      chrom = individual[0]\n",
        "    \n",
        "  print(\"Best chromosome: \")\n",
        "  print(chrom)\n",
        "  x = decodeChromosome(chrom[0:10])\n",
        "  y = decodeChromosome(chrom[10:20])\n",
        "  print(\"x =\", x)\n",
        "  print(\"y =\", y)\n",
        "  print('h(x, y) = {0:.32f}'.format(h(x, y)))\n",
        "  print(\"Fitness:\", maxFit)\n",
        "  print(\"sumFit:\", sumFit)\n",
        "\n",
        "  return x, y"
      ]
    },
    {
      "cell_type": "code",
      "execution_count": 10,
      "metadata": {
        "colab": {
          "base_uri": "https://localhost:8080/"
        },
        "id": "Zd7BL8CZmisc",
        "outputId": "eb4b8436-641a-484e-e9aa-242952df06bd"
      },
      "outputs": [],
      "source": [
        "for i in range(100):\n",
        "  # print(\"Generasi\", i + 1)\n",
        "  # parent selection\n",
        "  selectedParent = rouletteWheel(population)\n",
        "  # print(\"1. Selected parent:\")\n",
        "  # print(selectedParent)\n",
        "  \n",
        "  # crossover\n",
        "  # print(\"2. Crossover:\")\n",
        "  child = onePointRecombination(selectedParent)\n",
        "  # print(child)\n",
        "\n",
        "  # mutation\n",
        "  # print(\"3. Mutation:\")\n",
        "  child = [mutation(chrom) for chrom in child]\n",
        "  # print(child)\n",
        "\n",
        "  # new population\n",
        "  # print(\"4. New population:\")\n",
        "  population = newPopulation(population, child)\n",
        "  # print(population)\n",
        "\n",
        "  # print()"
      ]
    },
    {
      "cell_type": "markdown",
      "metadata": {},
      "source": [
        "### Optimal Solution"
      ]
    },
    {
      "cell_type": "code",
      "execution_count": 11,
      "metadata": {
        "colab": {
          "base_uri": "https://localhost:8080/"
        },
        "id": "xvvh3jU774VM",
        "outputId": "5b777848-89f5-4395-d985-1e7bd0cbd9bc"
      },
      "outputs": [
        {
          "name": "stdout",
          "output_type": "stream",
          "text": [
            "Best chromosome: \n",
            "[0, 0, 1, 0, 1, 1, 1, 1, 1, 0, 1, 0, 1, 0, 1, 0, 0, 0, 0, 0]\n",
            "x = -3.142717497556207\n",
            "y = 1.5689149560117306\n",
            "h(x, y) = 0.00000000000010480395191425220860\n",
            "Fitness: 99.99999999895196\n",
            "sumFit: 9999.999943467597\n"
          ]
        }
      ],
      "source": [
        "x, y = printStat(population)"
      ]
    },
    {
      "cell_type": "code",
      "execution_count": 12,
      "metadata": {
        "colab": {
          "base_uri": "https://localhost:8080/"
        },
        "id": "5URgAwWztaqe",
        "outputId": "04921c05-8a61-4ffb-9305-e191c8dcd112"
      },
      "outputs": [
        {
          "name": "stdout",
          "output_type": "stream",
          "text": [
            "h(x, y) = 0.00000000000010480395191425220860\n",
            "h(x, y) = 0.00000000000102279644306258868804\n",
            "h(x, y) = 0.00000000000614916077458703378100\n",
            "h(x, y) = 0.00000000000004364932388922833858\n",
            "h(x, y) = 0.00000000000005078228094907681850\n"
          ]
        }
      ],
      "source": [
        "print('h(x, y) = {0:.32f}'.format(h(x, y)))\n",
        "#WolframAlpha\n",
        "print('h(x, y) = {0:.32f}'.format(h(4.97936, 3.40857)))\n",
        "print('h(x, y) = {0:.32f}'.format(h(1.11364, -0.457153)))\n",
        "print('h(x, y) = {0:.32f}'.format(h(0.789652, -0.781144)))\n",
        "print('h(x, y) = {0:.32f}'.format(h(-0.881389, -0.689407)))"
      ]
    }
  ],
  "metadata": {
    "colab": {
      "name": "GENETIC ALGORITHM.ipynb",
      "provenance": []
    },
    "kernelspec": {
      "display_name": "Python 3",
      "name": "python3"
    },
    "language_info": {
      "codemirror_mode": {
        "name": "ipython",
        "version": 3
      },
      "file_extension": ".py",
      "mimetype": "text/x-python",
      "name": "python",
      "nbconvert_exporter": "python",
      "pygments_lexer": "ipython3",
      "version": "3.9.6"
    }
  },
  "nbformat": 4,
  "nbformat_minor": 0
}
